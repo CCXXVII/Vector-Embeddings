{
  "cells": [
    {
      "cell_type": "code",
      "execution_count": null,
      "metadata": {
        "id": "e8KZcCKIpgGl"
      },
      "outputs": [],
      "source": [
        "!pip install langchain_community\n",
        "!pip install langchain\n",
        "!pip install datasets\n",
        "!pip install faiss-gpu\n",
        "!pip install sentence-transformers"
      ]
    },
    {
      "cell_type": "code",
      "execution_count": 93,
      "metadata": {
        "id": "ScPnVnTTpb43"
      },
      "outputs": [],
      "source": [
        "import warnings\n",
        "import torch\n",
        "import pandas as pd\n",
        "import faiss\n",
        "import numpy as np\n",
        "import tqdm\n",
        "from PIL import Image\n",
        "from tqdm.auto import tqdm\n",
        "from IPython.core.display import HTML\n",
        "from io import BytesIO\n",
        "from base64 import b64encode\n",
        "from langchain_community.embeddings import HuggingFaceEmbeddings\n",
        "from datasets import load_dataset\n",
        "from langchain.embeddings import FakeEmbeddings\n",
        "warnings.filterwarnings(\"ignore\")"
      ]
    },
    {
      "cell_type": "code",
      "execution_count": 147,
      "metadata": {
        "colab": {
          "base_uri": "https://localhost:8080/"
        },
        "id": "V7Xil0DSshlb",
        "outputId": "1f0031bf-2166-441a-83c8-5786b1487f41"
      },
      "outputs": [
        {
          "name": "stdout",
          "output_type": "stream",
          "text": [
            "---------------------------------------------\n",
            "44072\n"
          ]
        }
      ],
      "source": [
        "fashion_product_dataset = load_dataset(\"ashraq/fashion-product-images-small\",\n",
        "                                       split=\"train\")\n",
        "images = fashion_product_dataset['image']\n",
        "\n",
        "fashion_product_dataset = fashion_product_dataset.remove_columns('image')\n",
        "fashion_product_dataset = fashion_product_dataset.to_pandas()\n",
        "#fashion_product_dataset = fashion_product_dataset.drop_duplicates(subset=[\"productDisplayName\"], keep=\"first\")\n",
        "fashion_product_dataset.head()\n",
        "print(\"---\"*15)\n",
        "print(len(fashion_product_dataset))"
      ]
    },
    {
      "cell_type": "code",
      "execution_count": null,
      "metadata": {
        "id": "W6hUYJ1CGIxn"
      },
      "outputs": [],
      "source": [
        "images = fashion_product_dataset['image']\n",
        "\n",
        "fashion_product_dataset = fashion_product_dataset.remove_columns('image')\n",
        "fashion_product_dataset = fashion_product_dataset.to_pandas()\n",
        "fashion_product_dataset = fashion_product_dataset.drop_duplicates(subset=[\"productDisplayName\"], keep=\"first\")\n",
        "fashion_product_dataset.head()\n",
        "print(\"---\"*15)\n",
        "print(len(fashion_product_dataset))"
      ]
    },
    {
      "cell_type": "code",
      "execution_count": 149,
      "metadata": {
        "colab": {
          "base_uri": "https://localhost:8080/",
          "height": 97
        },
        "id": "92bYX-Pd92vz",
        "outputId": "6a1dce65-3e59-4b5e-eaaf-f9c014c34cdf"
      },
      "outputs": [
        {
          "data": {
            "image/png": "[encoded data removed]",
            "text/plain": [
              "<PIL.JpegImagePlugin.JpegImageFile image mode=RGB size=60x80>"
            ]
          },
          "execution_count": 149,
          "metadata": {},
          "output_type": "execute_result"
        }
      ],
      "source": [
        "images[305]"
      ]
    },
    {
      "cell_type": "code",
      "execution_count": 150,
      "metadata": {
        "id": "--sHpjzGp49r"
      },
      "outputs": [],
      "source": [
        "BATCH_SIZE = 120\n",
        "MODEL_NAME = \"all-MiniLM-L6-v2\"\n",
        "embeddings = HuggingFaceEmbeddings(model_name=\"MODEL_NAME\")\n",
        "#embeddings = FakeEmbeddings(size=512)\n",
        "embedding_list = []"
      ]
    },
    {
      "cell_type": "code",
      "execution_count": null,
      "metadata": {
        "colab": {
          "base_uri": "https://localhost:8080/",
          "height": 49,
          "referenced_widgets": [
            "d62129a51c9a433ea51d18c969e1d908",
            "118ba2dadc8f42ae811801a803e4177f",
            "4c3d96d3462a40c08cc019bf58511d50",
            "35c20b63988b4520b5e6281540d5ad2d",
            "7ef48a26aab146e69814e2dab22c0e2e",
            "b2f96ffdac894df585a1cdeabd42672b",
            "3f73b05914a44675afc02fb02e78b628",
            "d8dec8f7e4574a64b52e9c950343255c",
            "b878933f404342a0979f070382c68a47",
            "f14f397ad5334a6699a05ab9ba82f6a7",
            "5a433895b96c4da59a204c6a8182d76d"
          ]
        },
        "id": "RL5p7dxztqkL",
        "outputId": "8d253bb0-b4b9-46cf-81cd-a9d8b5b5e89e"
      },
      "outputs": [],
      "source": [
        "product_display_names = fashion_product_dataset[\"productDisplayName\"]\n",
        "for i in tqdm(range(0, len(product_display_names), BATCH_SIZE)):\n",
        "\n",
        "    batch_names = product_display_names[i:i+BATCH_SIZE]\n",
        "    batch_embeddings = embeddings.embed_documents(batch_names)\n",
        "    embedding_list.extend(batch_embeddings)\n",
        "\n",
        "product_embeddings = np.array(embedding_list).astype(\"float32\")"
      ]
    },
    {
      "cell_type": "code",
      "execution_count": 152,
      "metadata": {
        "colab": {
          "base_uri": "https://localhost:8080/"
        },
        "id": "h42GvDyU2t0Q",
        "outputId": "7522af33-7414-48cd-f708-155c3565263c"
      },
      "outputs": [
        {
          "name": "stdout",
          "output_type": "stream",
          "text": [
            "Number of vectors: 44072\n",
            "Dimension of each vector: 384\n"
          ]
        }
      ],
      "source": [
        "n, d = product_embeddings.shape\n",
        "print(f\"Number of vectors: {n}\")\n",
        "print(f\"Dimension of each vector: {d}\")"
      ]
    },
    {
      "cell_type": "code",
      "execution_count": 153,
      "metadata": {
        "id": "3K6sCR6hwQ-H"
      },
      "outputs": [],
      "source": [
        "index = faiss.IndexFlatL2(d)\n",
        "index.add(product_embeddings)"
      ]
    },
    {
      "cell_type": "code",
      "execution_count": 154,
      "metadata": {
        "colab": {
          "base_uri": "https://localhost:8080/"
        },
        "id": "cyAjpLPkv3Gj",
        "outputId": "69db3c0c-c1d6-4bcf-9648-ce596fbf13d8"
      },
      "outputs": [
        {
          "name": "stdout",
          "output_type": "stream",
          "text": [
            "Search a product name: jean black women\n"
          ]
        }
      ],
      "source": [
        "query = input(\"Search a product name: \")\n",
        "query_embedding = embeddings.embed_query(query)\n",
        "query_embedding = np.array([query_embedding]).astype(\"float32\")"
      ]
    },
    {
      "cell_type": "code",
      "execution_count": 155,
      "metadata": {
        "colab": {
          "base_uri": "https://localhost:8080/"
        },
        "id": "vVzcWH8GyGA8",
        "outputId": "1ed40077-273f-44b3-f3b9-0e7c5f2023ff"
      },
      "outputs": [
        {
          "name": "stdout",
          "output_type": "stream",
          "text": [
            "[[0.54685634 0.54685646 0.550064   0.550064   0.57724    0.62353987\n",
            "  0.6458083  0.6478094  0.64780957 0.64780957]] [[31102  7213  6652 29052 38568 27241 35173  5233 40382 40089]]\n"
          ]
        }
      ],
      "source": [
        "k = 10\n",
        "distances, indices = index.search(query_embedding, k)\n",
        "print(distances, indices)"
      ]
    },
    {
      "cell_type": "code",
      "execution_count": 157,
      "metadata": {
        "colab": {
          "base_uri": "https://localhost:8080/"
        },
        "id": "8TEIWCd8yRPp",
        "outputId": "a96349a5-49ac-4b69-827d-a568d43b14c1"
      },
      "outputs": [
        {
          "name": "stdout",
          "output_type": "stream",
          "text": [
            "Elle Women Black Jeans\n",
            "Elle Women Black Jeans\n",
            "French Connection Women Black Jeans\n",
            "French Connection Women Black Jeans\n",
            "Denizen Women Black Jeans\n",
            "ONLY Women Black Jeans\n",
            "Pepe Jeans Women Black Jeans\n",
            "Lee Women Black Jeans\n",
            "Lee Women Black Jeans\n",
            "Lee Women Black Jeans\n"
          ]
        }
      ],
      "source": [
        "flat_indices = [index for sublist in indices for index in sublist]\n",
        "product_display_names = np.array(fashion_product_dataset[\"productDisplayName\"])\n",
        "for name in product_display_names[flat_indices]:\n",
        "    print(name)"
      ]
    },
    {
      "cell_type": "code",
      "execution_count": 158,
      "metadata": {
        "id": "5sJJk8EAy8IP"
      },
      "outputs": [],
      "source": [
        "faiss.write_index(index, \"fashion_embeddings\")\n",
        "#index = faiss.read_index(\"my_index\")"
      ]
    },
    {
      "cell_type": "code",
      "execution_count": 159,
      "metadata": {
        "colab": {
          "base_uri": "https://localhost:8080/",
          "height": 151
        },
        "id": "ixGLZlxnDbAU",
        "outputId": "8fdb656f-b392-4173-f093-9f90fd213969"
      },
      "outputs": [
        {
          "data": {
            "text/html": [
              "\n",
              "        <div style=\"display: flex; flex-flow: row wrap; text-align: center;\">\n",
              "        \n",
              "            <figure style=\"margin: 5px !important;\">\n",
              "              <img src=\"data:image/png;base64,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\" style=\"width: 90px; height: 120px\" >\n",
              "            </figure>\n",
              "        \n",
              "            <figure style=\"margin: 5px !important;\">\n",
              "              <img src=\"data:image/png;base64,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\" style=\"width: 90px; height: 120px\" >\n",
              "            </figure>\n",
              "        \n",
              "            <figure style=\"margin: 5px !important;\">\n",
              "              <img src=\"data:image/png;base64,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\" style=\"width: 90px; height: 120px\" >\n",
              "            </figure>\n",
              "        \n",
              "            <figure style=\"margin: 5px !important;\">\n",
              "              <img src=\"data:image/png;base64,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\" style=\"width: 90px; height: 120px\" >\n",
              "            </figure>\n",
              "        \n",
              "            <figure style=\"margin: 5px !important;\">\n",
              "              <img src=\"data:image/png;base64,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\" style=\"width: 90px; height: 120px\" >\n",
              "            </figure>\n",
              "        \n",
              "            <figure style=\"margin: 5px !important;\">\n",
              "              <img src=\"data:image/png;base64,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\" style=\"width: 90px; height: 120px\" >\n",
              "            </figure>\n",
              "        \n",
              "            <figure style=\"margin: 5px !important;\">\n",
              "              <img src=\"data:image/png;base64,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\" style=\"width: 90px; height: 120px\" >\n",
              "            </figure>\n",
              "        \n",
              "            <figure style=\"margin: 5px !important;\">\n",
              "              <img src=\"data:image/png;base64,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\" style=\"width: 90px; height: 120px\" >\n",
              "            </figure>\n",
              "        \n",
              "            <figure style=\"margin: 5px !important;\">\n",
              "              <img src=\"data:image/png;base64,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\" style=\"width: 90px; height: 120px\" >\n",
              "            </figure>\n",
              "        \n",
              "            <figure style=\"margin: 5px !important;\">\n",
              "              <img src=\"data:image/png;base64,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\" style=\"width: 90px; height: 120px\" >\n",
              "            </figure>\n",
              "        \n",
              "        </div>\n",
              "    "
            ],
            "text/plain": [
              "<IPython.core.display.HTML object>"
            ]
          },
          "execution_count": 159,
          "metadata": {},
          "output_type": "execute_result"
        }
      ],
      "source": [
        "closest_images = [images[i] for i in flat_indices]\n",
        "\n",
        "def display_result(image_batch):\n",
        "    figures = []\n",
        "    for img in image_batch:\n",
        "        b = BytesIO()\n",
        "        img.save(b, format='png')\n",
        "        figures.append(f'''\n",
        "            <figure style=\"margin: 5px !important;\">\n",
        "              <img src=\"data:image/png;base64,{b64encode(b.getvalue()).decode('utf-8')}\" style=\"width: 90px; height: 120px\" >\n",
        "            </figure>\n",
        "        ''')\n",
        "    return HTML(data=f'''\n",
        "        <div style=\"display: flex; flex-flow: row wrap; text-align: center;\">\n",
        "        {''.join(figures)}\n",
        "        </div>\n",
        "    ''')\n",
        "\n",
        "display_result(closest_images)\n"
      ]
    }
  ],
  "metadata": {
    "accelerator": "GPU",
    "colab": {
      "gpuType": "T4",
      "provenance": []
    },
    "kernelspec": {
      "display_name": "Python 3",
      "name": "python3"
    },
    "language_info": {
      "name": "python"
    },
    "widgets": {
      "application/vnd.jupyter.widget-state+json": {
        "118ba2dadc8f42ae811801a803e4177f": {
          "model_module": "@jupyter-widgets/controls",
          "model_module_version": "1.5.0",
          "model_name": "HTMLModel",
          "state": {
            "_dom_classes": [],
            "_model_module": "@jupyter-widgets/controls",
            "_model_module_version": "1.5.0",
            "_model_name": "HTMLModel",
            "_view_count": null,
            "_view_module": "@jupyter-widgets/controls",
            "_view_module_version": "1.5.0",
            "_view_name": "HTMLView",
            "description": "",
            "description_tooltip": null,
            "layout": "IPY_MODEL_b2f96ffdac894df585a1cdeabd42672b",
            "placeholder": "​",
            "style": "IPY_MODEL_3f73b05914a44675afc02fb02e78b628",
            "value": "100%"
          }
        },
        "35c20b63988b4520b5e6281540d5ad2d": {
          "model_module": "@jupyter-widgets/controls",
          "model_module_version": "1.5.0",
          "model_name": "HTMLModel",
          "state": {
            "_dom_classes": [],
            "_model_module": "@jupyter-widgets/controls",
            "_model_module_version": "1.5.0",
            "_model_name": "HTMLModel",
            "_view_count": null,
            "_view_module": "@jupyter-widgets/controls",
            "_view_module_version": "1.5.0",
            "_view_name": "HTMLView",
            "description": "",
            "description_tooltip": null,
            "layout": "IPY_MODEL_f14f397ad5334a6699a05ab9ba82f6a7",
            "placeholder": "​",
            "style": "IPY_MODEL_5a433895b96c4da59a204c6a8182d76d",
            "value": " 368/368 [00:14&lt;00:00, 25.55it/s]"
          }
        },
        "3f73b05914a44675afc02fb02e78b628": {
          "model_module": "@jupyter-widgets/controls",
          "model_module_version": "1.5.0",
          "model_name": "DescriptionStyleModel",
          "state": {
            "_model_module": "@jupyter-widgets/controls",
            "_model_module_version": "1.5.0",
            "_model_name": "DescriptionStyleModel",
            "_view_count": null,
            "_view_module": "@jupyter-widgets/base",
            "_view_module_version": "1.2.0",
            "_view_name": "StyleView",
            "description_width": ""
          }
        },
        "4c3d96d3462a40c08cc019bf58511d50": {
          "model_module": "@jupyter-widgets/controls",
          "model_module_version": "1.5.0",
          "model_name": "FloatProgressModel",
          "state": {
            "_dom_classes": [],
            "_model_module": "@jupyter-widgets/controls",
            "_model_module_version": "1.5.0",
            "_model_name": "FloatProgressModel",
            "_view_count": null,
            "_view_module": "@jupyter-widgets/controls",
            "_view_module_version": "1.5.0",
            "_view_name": "ProgressView",
            "bar_style": "success",
            "description": "",
            "description_tooltip": null,
            "layout": "IPY_MODEL_d8dec8f7e4574a64b52e9c950343255c",
            "max": 368,
            "min": 0,
            "orientation": "horizontal",
            "style": "IPY_MODEL_b878933f404342a0979f070382c68a47",
            "value": 368
          }
        },
        "5a433895b96c4da59a204c6a8182d76d": {
          "model_module": "@jupyter-widgets/controls",
          "model_module_version": "1.5.0",
          "model_name": "DescriptionStyleModel",
          "state": {
            "_model_module": "@jupyter-widgets/controls",
            "_model_module_version": "1.5.0",
            "_model_name": "DescriptionStyleModel",
            "_view_count": null,
            "_view_module": "@jupyter-widgets/base",
            "_view_module_version": "1.2.0",
            "_view_name": "StyleView",
            "description_width": ""
          }
        },
        "7ef48a26aab146e69814e2dab22c0e2e": {
          "model_module": "@jupyter-widgets/base",
          "model_module_version": "1.2.0",
          "model_name": "LayoutModel",
          "state": {
            "_model_module": "@jupyter-widgets/base",
            "_model_module_version": "1.2.0",
            "_model_name": "LayoutModel",
            "_view_count": null,
            "_view_module": "@jupyter-widgets/base",
            "_view_module_version": "1.2.0",
            "_view_name": "LayoutView",
            "align_content": null,
            "align_items": null,
            "align_self": null,
            "border": null,
            "bottom": null,
            "display": null,
            "flex": null,
            "flex_flow": null,
            "grid_area": null,
            "grid_auto_columns": null,
            "grid_auto_flow": null,
            "grid_auto_rows": null,
            "grid_column": null,
            "grid_gap": null,
            "grid_row": null,
            "grid_template_areas": null,
            "grid_template_columns": null,
            "grid_template_rows": null,
            "height": null,
            "justify_content": null,
            "justify_items": null,
            "left": null,
            "margin": null,
            "max_height": null,
            "max_width": null,
            "min_height": null,
            "min_width": null,
            "object_fit": null,
            "object_position": null,
            "order": null,
            "overflow": null,
            "overflow_x": null,
            "overflow_y": null,
            "padding": null,
            "right": null,
            "top": null,
            "visibility": null,
            "width": null
          }
        },
        "b2f96ffdac894df585a1cdeabd42672b": {
          "model_module": "@jupyter-widgets/base",
          "model_module_version": "1.2.0",
          "model_name": "LayoutModel",
          "state": {
            "_model_module": "@jupyter-widgets/base",
            "_model_module_version": "1.2.0",
            "_model_name": "LayoutModel",
            "_view_count": null,
            "_view_module": "@jupyter-widgets/base",
            "_view_module_version": "1.2.0",
            "_view_name": "LayoutView",
            "align_content": null,
            "align_items": null,
            "align_self": null,
            "border": null,
            "bottom": null,
            "display": null,
            "flex": null,
            "flex_flow": null,
            "grid_area": null,
            "grid_auto_columns": null,
            "grid_auto_flow": null,
            "grid_auto_rows": null,
            "grid_column": null,
            "grid_gap": null,
            "grid_row": null,
            "grid_template_areas": null,
            "grid_template_columns": null,
            "grid_template_rows": null,
            "height": null,
            "justify_content": null,
            "justify_items": null,
            "left": null,
            "margin": null,
            "max_height": null,
            "max_width": null,
            "min_height": null,
            "min_width": null,
            "object_fit": null,
            "object_position": null,
            "order": null,
            "overflow": null,
            "overflow_x": null,
            "overflow_y": null,
            "padding": null,
            "right": null,
            "top": null,
            "visibility": null,
            "width": null
          }
        },
        "b878933f404342a0979f070382c68a47": {
          "model_module": "@jupyter-widgets/controls",
          "model_module_version": "1.5.0",
          "model_name": "ProgressStyleModel",
          "state": {
            "_model_module": "@jupyter-widgets/controls",
            "_model_module_version": "1.5.0",
            "_model_name": "ProgressStyleModel",
            "_view_count": null,
            "_view_module": "@jupyter-widgets/base",
            "_view_module_version": "1.2.0",
            "_view_name": "StyleView",
            "bar_color": null,
            "description_width": ""
          }
        },
        "d62129a51c9a433ea51d18c969e1d908": {
          "model_module": "@jupyter-widgets/controls",
          "model_module_version": "1.5.0",
          "model_name": "HBoxModel",
          "state": {
            "_dom_classes": [],
            "_model_module": "@jupyter-widgets/controls",
            "_model_module_version": "1.5.0",
            "_model_name": "HBoxModel",
            "_view_count": null,
            "_view_module": "@jupyter-widgets/controls",
            "_view_module_version": "1.5.0",
            "_view_name": "HBoxView",
            "box_style": "",
            "children": [
              "IPY_MODEL_118ba2dadc8f42ae811801a803e4177f",
              "IPY_MODEL_4c3d96d3462a40c08cc019bf58511d50",
              "IPY_MODEL_35c20b63988b4520b5e6281540d5ad2d"
            ],
            "layout": "IPY_MODEL_7ef48a26aab146e69814e2dab22c0e2e"
          }
        },
        "d8dec8f7e4574a64b52e9c950343255c": {
          "model_module": "@jupyter-widgets/base",
          "model_module_version": "1.2.0",
          "model_name": "LayoutModel",
          "state": {
            "_model_module": "@jupyter-widgets/base",
            "_model_module_version": "1.2.0",
            "_model_name": "LayoutModel",
            "_view_count": null,
            "_view_module": "@jupyter-widgets/base",
            "_view_module_version": "1.2.0",
            "_view_name": "LayoutView",
            "align_content": null,
            "align_items": null,
            "align_self": null,
            "border": null,
            "bottom": null,
            "display": null,
            "flex": null,
            "flex_flow": null,
            "grid_area": null,
            "grid_auto_columns": null,
            "grid_auto_flow": null,
            "grid_auto_rows": null,
            "grid_column": null,
            "grid_gap": null,
            "grid_row": null,
            "grid_template_areas": null,
            "grid_template_columns": null,
            "grid_template_rows": null,
            "height": null,
            "justify_content": null,
            "justify_items": null,
            "left": null,
            "margin": null,
            "max_height": null,
            "max_width": null,
            "min_height": null,
            "min_width": null,
            "object_fit": null,
            "object_position": null,
            "order": null,
            "overflow": null,
            "overflow_x": null,
            "overflow_y": null,
            "padding": null,
            "right": null,
            "top": null,
            "visibility": null,
            "width": null
          }
        },
        "f14f397ad5334a6699a05ab9ba82f6a7": {
          "model_module": "@jupyter-widgets/base",
          "model_module_version": "1.2.0",
          "model_name": "LayoutModel",
          "state": {
            "_model_module": "@jupyter-widgets/base",
            "_model_module_version": "1.2.0",
            "_model_name": "LayoutModel",
            "_view_count": null,
            "_view_module": "@jupyter-widgets/base",
            "_view_module_version": "1.2.0",
            "_view_name": "LayoutView",
            "align_content": null,
            "align_items": null,
            "align_self": null,
            "border": null,
            "bottom": null,
            "display": null,
            "flex": null,
            "flex_flow": null,
            "grid_area": null,
            "grid_auto_columns": null,
            "grid_auto_flow": null,
            "grid_auto_rows": null,
            "grid_column": null,
            "grid_gap": null,
            "grid_row": null,
            "grid_template_areas": null,
            "grid_template_columns": null,
            "grid_template_rows": null,
            "height": null,
            "justify_content": null,
            "justify_items": null,
            "left": null,
            "margin": null,
            "max_height": null,
            "max_width": null,
            "min_height": null,
            "min_width": null,
            "object_fit": null,
            "object_position": null,
            "order": null,
            "overflow": null,
            "overflow_x": null,
            "overflow_y": null,
            "padding": null,
            "right": null,
            "top": null,
            "visibility": null,
            "width": null
          }
        }
      }
    }
  },
  "nbformat": 4,
  "nbformat_minor": 0
}
